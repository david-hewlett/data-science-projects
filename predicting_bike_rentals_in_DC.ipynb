{
 "cells": [
  {
   "cell_type": "markdown",
   "metadata": {},
   "source": [
    "** Introduction **\n",
    "\n",
    "This project looks at communal bike rentals in the Washington D.C. area. The dataset includes information around the time of rental and the weather. Our goal of this project is to test different modles to see if we can predict the total number of bikes rented in a given hour (the 'cnt' column - which is a combination of the casual and registered columns). We will use Linear Regression, a Decision Tree and Random Forest to make our predictions. "
   ]
  },
  {
   "cell_type": "code",
   "execution_count": 52,
   "metadata": {
    "collapsed": false
   },
   "outputs": [],
   "source": [
    "import pandas as pd\n",
    "import numpy as np\n",
    "import matplotlib.pyplot as plt\n",
    "import math\n",
    "from sklearn.linear_model import LinearRegression\n",
    "from sklearn.metrics import mean_squared_error\n",
    "from sklearn.tree import DecisionTreeRegressor\n",
    "from sklearn.ensemble import RandomForestRegressor\n",
    "from sklearn.model_selection import KFold\n",
    "%matplotlib inline"
   ]
  },
  {
   "cell_type": "code",
   "execution_count": 2,
   "metadata": {
    "collapsed": true
   },
   "outputs": [],
   "source": [
    "bike_rentals = pd.read_csv('bike_rental_hour.csv')"
   ]
  },
  {
   "cell_type": "code",
   "execution_count": 3,
   "metadata": {
    "collapsed": false
   },
   "outputs": [
    {
     "name": "stdout",
     "output_type": "stream",
     "text": [
      "   instant      dteday  season  yr  mnth  hr  holiday  weekday  workingday  \\\n",
      "0        1  2011-01-01       1   0     1   0        0        6           0   \n",
      "1        2  2011-01-01       1   0     1   1        0        6           0   \n",
      "2        3  2011-01-01       1   0     1   2        0        6           0   \n",
      "3        4  2011-01-01       1   0     1   3        0        6           0   \n",
      "4        5  2011-01-01       1   0     1   4        0        6           0   \n",
      "5        6  2011-01-01       1   0     1   5        0        6           0   \n",
      "6        7  2011-01-01       1   0     1   6        0        6           0   \n",
      "7        8  2011-01-01       1   0     1   7        0        6           0   \n",
      "8        9  2011-01-01       1   0     1   8        0        6           0   \n",
      "9       10  2011-01-01       1   0     1   9        0        6           0   \n",
      "\n",
      "   weathersit  temp   atemp   hum  windspeed  casual  registered  cnt  \n",
      "0           1  0.24  0.2879  0.81     0.0000       3          13   16  \n",
      "1           1  0.22  0.2727  0.80     0.0000       8          32   40  \n",
      "2           1  0.22  0.2727  0.80     0.0000       5          27   32  \n",
      "3           1  0.24  0.2879  0.75     0.0000       3          10   13  \n",
      "4           1  0.24  0.2879  0.75     0.0000       0           1    1  \n",
      "5           2  0.24  0.2576  0.75     0.0896       0           1    1  \n",
      "6           1  0.22  0.2727  0.80     0.0000       2           0    2  \n",
      "7           1  0.20  0.2576  0.86     0.0000       1           2    3  \n",
      "8           1  0.24  0.2879  0.75     0.0000       1           7    8  \n",
      "9           1  0.32  0.3485  0.76     0.0000       8           6   14  \n"
     ]
    }
   ],
   "source": [
    "# Exploring the initial data\n",
    "\n",
    "print(bike_rentals.head(10))"
   ]
  },
  {
   "cell_type": "code",
   "execution_count": 4,
   "metadata": {
    "collapsed": false
   },
   "outputs": [
    {
     "data": {
      "text/plain": [
       "(array([6972., 3705., 2659., 1660.,  987.,  663.,  369.,  188.,  139.,\n",
       "          37.]),\n",
       " array([  1. ,  98.6, 196.2, 293.8, 391.4, 489. , 586.6, 684.2, 781.8,\n",
       "        879.4, 977. ]),\n",
       " <a list of 10 Patch objects>)"
      ]
     },
     "execution_count": 4,
     "metadata": {},
     "output_type": "execute_result"
    },
    {
     "data": {
      "image/png": "[encoded data removed]",
      "text/plain": [
       "<matplotlib.figure.Figure at 0x7f6fb4e4fc50>"
      ]
     },
     "metadata": {},
     "output_type": "display_data"
    }
   ],
   "source": [
    "# Gain insight on the 'cnt' column:\n",
    "\n",
    "plt.hist(bike_rentals['cnt'])"
   ]
  },
  {
   "cell_type": "code",
   "execution_count": 5,
   "metadata": {
    "collapsed": false
   },
   "outputs": [
    {
     "name": "stdout",
     "output_type": "stream",
     "text": [
      "weekday       0.026900\n",
      "workingday    0.030284\n",
      "holiday       0.030927\n",
      "windspeed     0.093234\n",
      "mnth          0.120638\n",
      "weathersit    0.142426\n",
      "season        0.178056\n",
      "yr            0.250495\n",
      "instant       0.278379\n",
      "hum           0.322911\n",
      "hr            0.394071\n",
      "atemp         0.400929\n",
      "temp          0.404772\n",
      "casual        0.694564\n",
      "registered    0.972151\n",
      "cnt           1.000000\n",
      "Name: cnt, dtype: float64\n"
     ]
    }
   ],
   "source": [
    "# Explore the correlations with the 'cnt' column:\n",
    "\n",
    "cor_map = bike_rentals.corr()\n",
    "print(abs(cor_map['cnt']).sort_values())"
   ]
  },
  {
   "cell_type": "code",
   "execution_count": 6,
   "metadata": {
    "collapsed": false
   },
   "outputs": [],
   "source": [
    "# Change the hour variable to a time of day variable\n",
    "\n",
    "def assign_label(hour):\n",
    "    if 6 > hour <= 12:\n",
    "        tod = 1\n",
    "    elif 12 > hour <= 18:\n",
    "        tod = 2\n",
    "    elif 18 > hour <= 24:\n",
    "        tod = 3\n",
    "    else:\n",
    "        tod = 4\n",
    "    return tod\n",
    "\n",
    "bike_rentals['time_label'] = bike_rentals['hr'].apply(assign_label)"
   ]
  },
  {
   "cell_type": "code",
   "execution_count": 7,
   "metadata": {
    "collapsed": false
   },
   "outputs": [
    {
     "name": "stdout",
     "output_type": "stream",
     "text": [
      "weekday       0.026900\n",
      "workingday    0.030284\n",
      "holiday       0.030927\n",
      "windspeed     0.093234\n",
      "mnth          0.120638\n",
      "weathersit    0.142426\n",
      "season        0.178056\n",
      "yr            0.250495\n",
      "instant       0.278379\n",
      "hum           0.322911\n",
      "hr            0.394071\n",
      "atemp         0.400929\n",
      "temp          0.404772\n",
      "time_label    0.422126\n",
      "casual        0.694564\n",
      "registered    0.972151\n",
      "cnt           1.000000\n",
      "Name: cnt, dtype: float64\n"
     ]
    }
   ],
   "source": [
    "# Re-look at the correlations with the time_label column.\n",
    "\n",
    "cor_map = bike_rentals.corr()\n",
    "print(abs(cor_map['cnt']).sort_values())"
   ]
  },
  {
   "cell_type": "markdown",
   "metadata": {},
   "source": [
    "** ERROR METRIC **\n",
    "\n",
    "We will use the RMSE metric to measure our data.\n",
    "\n",
    "We will start with linear regression on the data for our prediction."
   ]
  },
  {
   "cell_type": "code",
   "execution_count": 8,
   "metadata": {
    "collapsed": true
   },
   "outputs": [],
   "source": [
    "# First we need to randomize and split up the data into train \n",
    "# and test groups."
   ]
  },
  {
   "cell_type": "code",
   "execution_count": 9,
   "metadata": {
    "collapsed": false
   },
   "outputs": [],
   "source": [
    "bike_rentals = bike_rentals.sample(frac=1).reset_index(drop=True)\n",
    "split_num = math.floor(bike_rentals.shape[0] * .8)\n",
    "train = bike_rentals.iloc[:split_num]\n",
    "test = bike_rentals.iloc[split_num:]\n"
   ]
  },
  {
   "cell_type": "code",
   "execution_count": 10,
   "metadata": {
    "collapsed": false
   },
   "outputs": [],
   "source": [
    "# Now we need to create a list of columns to use for our regression\n",
    "# We will remove 'cnt', 'casual' and 'registered' because they would\n",
    "# inform the algorithm of the answer. We will remove 'atemp'\n",
    "# because it is a function of temp and we don't want to duplicate.\n",
    "# We will also remove dteday. \n",
    "\n",
    "features = list(bike_rentals.drop(['cnt',\n",
    "                               'casual',\n",
    "                               'registered',\n",
    "                               'atemp',\n",
    "                               'dteday'], axis=1\n",
    "                            ).columns)"
   ]
  },
  {
   "cell_type": "code",
   "execution_count": 11,
   "metadata": {
    "collapsed": false
   },
   "outputs": [
    {
     "data": {
      "text/plain": [
       "LinearRegression(copy_X=True, fit_intercept=True, n_jobs=1, normalize=False)"
      ]
     },
     "execution_count": 11,
     "metadata": {},
     "output_type": "execute_result"
    }
   ],
   "source": [
    "lr = LinearRegression()\n",
    "lr.fit(train[features],train['cnt'])"
   ]
  },
  {
   "cell_type": "code",
   "execution_count": 12,
   "metadata": {
    "collapsed": false
   },
   "outputs": [
    {
     "name": "stdout",
     "output_type": "stream",
     "text": [
      "Test RMSE:  140.02498009201648\n"
     ]
    }
   ],
   "source": [
    "predictions = lr.predict(test[features])\n",
    "lr_rmse = mean_squared_error(test['cnt'],predictions)**(1/2)\n",
    "print('Test RMSE: ',lr_rmse)"
   ]
  },
  {
   "cell_type": "markdown",
   "metadata": {},
   "source": [
    "** Analysis of RMSE**\n",
    "\n",
    "This RMSE seems high. This could be from the distribution of the data. Most of the rentals are low but some are extremely high and those may be getting penalized by the Linear Regression model."
   ]
  },
  {
   "cell_type": "code",
   "execution_count": 13,
   "metadata": {
    "collapsed": false
   },
   "outputs": [
    {
     "name": "stdout",
     "output_type": "stream",
     "text": [
      "Test RMSE:  57.53472209249011\n"
     ]
    }
   ],
   "source": [
    "dtr = DecisionTreeRegressor()\n",
    "dtr.fit(train[features],train['cnt'])\n",
    "\n",
    "predictions = dtr.predict(test[features])\n",
    "dt_rmse = mean_squared_error(test['cnt'], predictions)**(1/2)\n",
    "print('Test RMSE: ', dt_rmse)"
   ]
  },
  {
   "cell_type": "markdown",
   "metadata": {},
   "source": [
    "The RMSE is extremely high pointing to severe overfitting. Let's try to tweak it a bit and find out what the best parameters and values would be to change. We'll start with min_samples and then test depth."
   ]
  },
  {
   "cell_type": "code",
   "execution_count": 14,
   "metadata": {
    "collapsed": false
   },
   "outputs": [
    {
     "name": "stdout",
     "output_type": "stream",
     "text": [
      "Test RMSE 1 min_sample_leaf:  56.17407546983465\n",
      "Test RMSE 2 min_sample_leaf:  51.4998384667567\n",
      "Test RMSE 3 min_sample_leaf:  50.64805261000953\n",
      "Test RMSE 4 min_sample_leaf:  49.872696810633535\n",
      "Test RMSE 5 min_sample_leaf:  49.85990412383016\n",
      "Test RMSE 6 min_sample_leaf:  49.82276486340461\n",
      "Test RMSE 7 min_sample_leaf:  50.12602319544563\n",
      "Test RMSE 8 min_sample_leaf:  50.40822005051152\n",
      "Test RMSE 9 min_sample_leaf:  50.742867000998324\n",
      "Test RMSE 10 min_sample_leaf:  50.61971051881094\n"
     ]
    }
   ],
   "source": [
    "for i in range(1,11):\n",
    "    dtr = DecisionTreeRegressor(min_samples_leaf=i)\n",
    "    dtr.fit(train[features],train['cnt'])\n",
    "    \n",
    "    predictions = dtr.predict(test[features])\n",
    "    dt_rmse = mean_squared_error(test['cnt'], predictions)**(1/2)\n",
    "    print('Test RMSE',i,'min_sample_leaf: ', dt_rmse)"
   ]
  },
  {
   "cell_type": "code",
   "execution_count": 15,
   "metadata": {
    "collapsed": false
   },
   "outputs": [
    {
     "name": "stdout",
     "output_type": "stream",
     "text": [
      "Test RMSE 10 max_depth:  57.45390957522606\n",
      "Test RMSE 11 max_depth:  53.95801508057443\n",
      "Test RMSE 12 max_depth:  52.13574324508572\n",
      "Test RMSE 13 max_depth:  50.80867112040207\n",
      "Test RMSE 14 max_depth:  50.02784173635927\n",
      "Test RMSE 15 max_depth:  49.90533003873262\n",
      "Test RMSE 16 max_depth:  50.0097848010563\n",
      "Test RMSE 17 max_depth:  49.66862451668388\n",
      "Test RMSE 18 max_depth:  49.92936790176642\n",
      "Test RMSE 19 max_depth:  49.769556560181535\n",
      "Test RMSE 20 max_depth:  49.97218173073685\n",
      "Test RMSE 21 max_depth:  49.883801457126\n",
      "Test RMSE 22 max_depth:  49.86479235577875\n",
      "Test RMSE 23 max_depth:  49.84970232353811\n",
      "Test RMSE 24 max_depth:  49.78910449438584\n",
      "Test RMSE 25 max_depth:  49.98963683597963\n",
      "Test RMSE 26 max_depth:  49.80465960339818\n",
      "Test RMSE 27 max_depth:  49.73871530208742\n",
      "Test RMSE 28 max_depth:  49.8322844267886\n",
      "Test RMSE 29 max_depth:  49.82284549014391\n",
      "Test RMSE 30 max_depth:  49.78609949820087\n",
      "Test RMSE 31 max_depth:  49.76965304633447\n",
      "Test RMSE 32 max_depth:  49.98865587944474\n",
      "Test RMSE 33 max_depth:  49.84629134647089\n",
      "Test RMSE 34 max_depth:  49.7533311384581\n",
      "Test RMSE 35 max_depth:  49.97181120134966\n"
     ]
    }
   ],
   "source": [
    "for i in range(10,36):\n",
    "    dtr = DecisionTreeRegressor(max_depth=i, min_samples_leaf=5)\n",
    "    dtr.fit(train[features],train['cnt'])\n",
    "    \n",
    "    predictions = dtr.predict(test[features])\n",
    "    dt_rmse = mean_squared_error(test['cnt'], predictions)**(1/2)\n",
    "    print('Test RMSE',i,'max_depth: ', dt_rmse)"
   ]
  },
  {
   "cell_type": "code",
   "execution_count": 16,
   "metadata": {
    "collapsed": false
   },
   "outputs": [
    {
     "name": "stdout",
     "output_type": "stream",
     "text": [
      "Test RMSE max_depth = 24, min_samples_leaf = 5:  49.694285123745686\n"
     ]
    }
   ],
   "source": [
    "dtr = DecisionTreeRegressor(max_depth = 24,min_samples_leaf = 5)\n",
    "dtr.fit(train[features],train['cnt'])\n",
    "    \n",
    "predictions = dtr.predict(test[features])\n",
    "dt_rmse = mean_squared_error(test['cnt'], predictions)**(1/2)\n",
    "print('Test RMSE max_depth = 24, min_samples_leaf = 5: ', dt_rmse)"
   ]
  },
  {
   "cell_type": "markdown",
   "metadata": {},
   "source": [
    "** Quick Analysis **\n",
    "\n",
    "After playing around with it a little, it looks like the optimal spot may be somewhere around 5 min sample leafs and 24 max depth. If we wanted to be even more sure we could run multiple iterations of this and take the average. With this data and these features we could get our RMSE down more easily with min_samples_leaf than max_depth. It is probably worth dropping max_depth to speed up the operation, especially if we were working with a larger data set.\n",
    "\n",
    "Compared to Linear Regression, the Decision Tree Regressor produced a significantly better RMSE value. \n",
    "\n",
    "Next we try applying a Random Forest Regressor. We'll start with the default setting and then experiment with the parameters."
   ]
  },
  {
   "cell_type": "code",
   "execution_count": 21,
   "metadata": {
    "collapsed": false
   },
   "outputs": [
    {
     "name": "stdout",
     "output_type": "stream",
     "text": [
      "Test RMSE:  44.22067839352342\n"
     ]
    }
   ],
   "source": [
    "rfr = RandomForestRegressor()\n",
    "rfr.fit(train[features],train['cnt'])\n",
    "\n",
    "predictions = rfr.predict(test[features])\n",
    "rfr_rmse = mean_squared_error(test['cnt'],predictions)**(1/2)\n",
    "print('Test RMSE: ',rfr_rmse)"
   ]
  },
  {
   "cell_type": "markdown",
   "metadata": {},
   "source": [
    "We can already see that the random forest regressor is fitting better to the data than either the linear regression model or the decision tree model."
   ]
  },
  {
   "cell_type": "code",
   "execution_count": 24,
   "metadata": {
    "collapsed": false
   },
   "outputs": [
    {
     "name": "stdout",
     "output_type": "stream",
     "text": [
      "Test RMSE with min_sample_leaf = 1 : 42.40520315144481\n",
      "Test RMSE with min_sample_leaf = 2 : 43.93583347223653\n",
      "Test RMSE with min_sample_leaf = 3 : 43.42160125236751\n",
      "Test RMSE with min_sample_leaf = 4 : 42.665645362975795\n",
      "Test RMSE with min_sample_leaf = 5 : 43.23000203531048\n",
      "Test RMSE with min_sample_leaf = 6 : 44.55830945001479\n",
      "Test RMSE with min_sample_leaf = 7 : 44.29162679848522\n",
      "Test RMSE with min_sample_leaf = 8 : 45.469474356145575\n",
      "Test RMSE with min_sample_leaf = 9 : 45.46561971367632\n",
      "Test RMSE with min_sample_leaf = 10 : 46.494637370078784\n"
     ]
    }
   ],
   "source": [
    "for i in range(1,11):\n",
    "    rfr = RandomForestRegressor(min_samples_leaf = i)\n",
    "    rfr.fit(train[features],train['cnt'])\n",
    "    \n",
    "    predictions = rfr.predict(test[features])\n",
    "    rfr_rmse = mean_squared_error(test['cnt'],predictions)**(1/2)\n",
    "    \n",
    "    print('Test RMSE with min_sample_leaf =',i,':',rfr_rmse)\n",
    "    "
   ]
  },
  {
   "cell_type": "code",
   "execution_count": 27,
   "metadata": {
    "collapsed": false
   },
   "outputs": [
    {
     "name": "stdout",
     "output_type": "stream",
     "text": [
      "Test RMSE with max_depth = 5 : 106.42065053847816\n",
      "Test RMSE with max_depth = 6 : 96.94846406862241\n",
      "Test RMSE with max_depth = 7 : 77.55125786100407\n",
      "Test RMSE with max_depth = 8 : 63.51726870473583\n",
      "Test RMSE with max_depth = 9 : 55.077035918129404\n",
      "Test RMSE with max_depth = 10 : 51.267290578189716\n",
      "Test RMSE with max_depth = 11 : 48.241792003909055\n",
      "Test RMSE with max_depth = 12 : 45.096648081816184\n",
      "Test RMSE with max_depth = 13 : 44.53405419880526\n",
      "Test RMSE with max_depth = 14 : 44.25946627815348\n",
      "Test RMSE with max_depth = 15 : 43.221324691509956\n",
      "Test RMSE with max_depth = 16 : 43.236465528132726\n",
      "Test RMSE with max_depth = 17 : 42.881675514838285\n",
      "Test RMSE with max_depth = 18 : 43.03986080162767\n",
      "Test RMSE with max_depth = 19 : 41.745910248954935\n",
      "Test RMSE with max_depth = 20 : 42.85420246624095\n",
      "Test RMSE with max_depth = 21 : 43.7905443005039\n",
      "Test RMSE with max_depth = 22 : 43.40525234706869\n",
      "Test RMSE with max_depth = 23 : 42.7564075274159\n",
      "Test RMSE with max_depth = 24 : 42.331911811568446\n",
      "Test RMSE with max_depth = 25 : 42.87467131594572\n",
      "Test RMSE with max_depth = 26 : 42.66881453086236\n",
      "Test RMSE with max_depth = 27 : 43.559489917519734\n",
      "Test RMSE with max_depth = 28 : 41.68985161658093\n",
      "Test RMSE with max_depth = 29 : 43.63753084114925\n",
      "Test RMSE with max_depth = 30 : 42.461395716875195\n"
     ]
    }
   ],
   "source": [
    "for i in range(5,31):\n",
    "    rfr = RandomForestRegressor(max_depth = i)\n",
    "    rfr.fit(train[features],train['cnt'])\n",
    "    \n",
    "    predictions = rfr.predict(test[features])\n",
    "    rfr_rmse = mean_squared_error(test['cnt'],predictions)**(1/2)\n",
    "    \n",
    "    print('Test RMSE with max_depth =',i,':',rfr_rmse)"
   ]
  },
  {
   "cell_type": "code",
   "execution_count": 28,
   "metadata": {
    "collapsed": false
   },
   "outputs": [
    {
     "name": "stdout",
     "output_type": "stream",
     "text": [
      "Test RMSE with n_estimators = 1 : 61.0588931686674\n",
      "Test RMSE with n_estimators = 2 : 54.60655512904096\n",
      "Test RMSE with n_estimators = 3 : 49.26225324405073\n",
      "Test RMSE with n_estimators = 4 : 46.939648553225716\n",
      "Test RMSE with n_estimators = 5 : 45.21351850349686\n",
      "Test RMSE with n_estimators = 6 : 43.0819661955827\n",
      "Test RMSE with n_estimators = 7 : 43.52227961032728\n",
      "Test RMSE with n_estimators = 8 : 43.715068456487074\n",
      "Test RMSE with n_estimators = 9 : 43.24218359164547\n",
      "Test RMSE with n_estimators = 10 : 43.84081119370374\n",
      "Test RMSE with n_estimators = 11 : 42.673241161492825\n",
      "Test RMSE with n_estimators = 12 : 42.630798598335275\n",
      "Test RMSE with n_estimators = 13 : 42.355544932030625\n",
      "Test RMSE with n_estimators = 14 : 42.04462166986254\n",
      "Test RMSE with n_estimators = 15 : 42.2571004301053\n",
      "Test RMSE with n_estimators = 16 : 42.7342376483036\n",
      "Test RMSE with n_estimators = 17 : 40.51342106788624\n",
      "Test RMSE with n_estimators = 18 : 41.36823888095526\n",
      "Test RMSE with n_estimators = 19 : 41.99649524098717\n",
      "Test RMSE with n_estimators = 20 : 41.908080925227814\n",
      "Test RMSE with n_estimators = 21 : 41.48455143823724\n",
      "Test RMSE with n_estimators = 22 : 41.48357272301846\n",
      "Test RMSE with n_estimators = 23 : 41.45488399439149\n",
      "Test RMSE with n_estimators = 24 : 41.742428819658116\n",
      "Test RMSE with n_estimators = 25 : 40.72640382724277\n",
      "Test RMSE with n_estimators = 26 : 41.39964113003055\n",
      "Test RMSE with n_estimators = 27 : 41.334364895836885\n",
      "Test RMSE with n_estimators = 28 : 41.324449325443524\n",
      "Test RMSE with n_estimators = 29 : 40.8637269557986\n",
      "Test RMSE with n_estimators = 30 : 41.13436567529654\n"
     ]
    }
   ],
   "source": [
    "for i in range(1,31):\n",
    "    rfr = RandomForestRegressor(n_estimators=i)\n",
    "    rfr.fit(train[features],train['cnt'])\n",
    "    \n",
    "    predictions = rfr.predict(test[features])\n",
    "    rfr_rmse = mean_squared_error(test['cnt'],predictions)**(1/2)\n",
    "    \n",
    "    print('Test RMSE with n_estimators =',i,':',rfr_rmse)"
   ]
  },
  {
   "cell_type": "markdown",
   "metadata": {},
   "source": [
    "Now that we have some idea of the optimal spots for our parameters lets try a combo."
   ]
  },
  {
   "cell_type": "code",
   "execution_count": 51,
   "metadata": {
    "collapsed": false
   },
   "outputs": [
    {
     "name": "stdout",
     "output_type": "stream",
     "text": [
      "Test RMSE:  38.533008881148696\n",
      "Test RMSE:  41.21640049461768\n",
      "Test RMSE:  41.328605556472986\n",
      "Test RMSE:  43.03447820090611\n",
      "Test RMSE:  42.647576587352106\n",
      "Test RMSE:  42.37705339734473\n",
      "Test RMSE:  39.48390867311073\n",
      "Test RMSE:  41.626729099425695\n",
      "Test RMSE:  40.86559493900309\n",
      "Test RMSE:  40.90189174329043\n",
      "\n",
      "Avg RMSE for Random Forest: 41.20152475726722\n"
     ]
    }
   ],
   "source": [
    "rmse_list = []\n",
    "\n",
    "kf = KFold(n_splits=10,shuffle=True)\n",
    "X = bike_rentals.index\n",
    "\n",
    "for train_index, test_index in kf.split(X):\n",
    "    train = bike_rentals.iloc[train_index]\n",
    "    test = bike_rentals.iloc[test_index]\n",
    "    \n",
    "    rfr = RandomForestRegressor(max_depth = 19, n_estimators = 29)\n",
    "    rfr.fit(train[features],train['cnt'])\n",
    "    \n",
    "    predictions = rfr.predict(test[features])\n",
    "    rfr_rmse = mean_squared_error(test['cnt'],predictions)**(1/2)\n",
    "    \n",
    "    rmse_list.append(rfr_rmse)\n",
    "    \n",
    "    print('Test RMSE: ',rfr_rmse)\n",
    "    \n",
    "avg_rmse = np.mean(rmse_list)\n",
    "print('')\n",
    "print('Avg RMSE for Random Forest:', avg_rmse)"
   ]
  },
  {
   "cell_type": "markdown",
   "metadata": {},
   "source": [
    "** Conclusion **\n",
    "\n",
    "We were able to get our RMSE down from 140.0 inially with linear regression to 41.2 with our random forest model. This was a great example of how different models work and how to test them."
   ]
  },
  {
   "cell_type": "code",
   "execution_count": null,
   "metadata": {
    "collapsed": true
   },
   "outputs": [],
   "source": []
  }
 ],
 "metadata": {
  "kernelspec": {
   "display_name": "Python 3",
   "language": "python",
   "name": "python3"
  },
  "language_info": {
   "codemirror_mode": {
    "name": "ipython",
    "version": 3
   },
   "file_extension": ".py",
   "mimetype": "text/x-python",
   "name": "python",
   "nbconvert_exporter": "python",
   "pygments_lexer": "ipython3",
   "version": "3.4.3"
  }
 },
 "nbformat": 4,
 "nbformat_minor": 0
}
