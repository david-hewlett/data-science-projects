{
 "cells": [
  {
   "cell_type": "markdown",
   "metadata": {
    "collapsed": true
   },
   "source": [
    "<h1> Is the 6/49 lottery winnable? </h1>\n",
    "\n",
    "In this exercise we will look to identify the chances of winning the lottery using statistics. We'll examine the chances of the different types of winning based on how many tickets you buy. The hope is to enlighten readers about the low chances they have when playing the lottery. The context of this project is that we are building out part of an app that users can use to figure out their chances of winning.\n",
    "\n",
    "The 6/49 lotto allows a person to pick 6 numbers (without replacement) from the range 1 - 49 inclusive. "
   ]
  },
  {
   "cell_type": "code",
   "execution_count": 1,
   "metadata": {
    "collapsed": false
   },
   "outputs": [],
   "source": [
    "# We will be using factorials and combinations multiple times in this exercise so to start we\n",
    "# will create some functions we can use.\n",
    "\n",
    "def factorial(n):\n",
    "    the_fac = n\n",
    "    for i in range(1,n):\n",
    "        the_fac *= i\n",
    "    return the_fac\n",
    "\n",
    "def combinations(n,k):\n",
    "    return factorial(n) / (factorial(k)*factorial(n-k))\n"
   ]
  },
  {
   "cell_type": "code",
   "execution_count": 2,
   "metadata": {
    "collapsed": false
   },
   "outputs": [
    {
     "name": "stdout",
     "output_type": "stream",
     "text": [
      "Your chance of winning the next Big Prize using the numbers [3, 41, 43, 12, 11, 1] is 7.1511e-06%\n"
     ]
    }
   ],
   "source": [
    "# The first function we will build will take a set of 6 numnbers and return the chance of\n",
    "# winning with those numbers.\n",
    "\n",
    "def one_ticket_chance_of_winning(user_selection):\n",
    "    \n",
    "    # Just to rule out numbers outside of the range we add an if statement.\n",
    "    \n",
    "    if (min(user_selection) < 1) or (max(user_selection) > 49):\n",
    "        return print(\"One or more of your numbers was outside the range of possible numbers, 1 - 49.\")\n",
    "    \n",
    "    # Then we create the numbers we will need to calculate the percent chance of winning.\n",
    "    \n",
    "    num_of_outcomes = 1  # We defined this in case we want to go back and accept more inputs.\n",
    "    n = 49               # Defined by the range of numbers to chose from.\n",
    "    k = len(user_selection)\n",
    "    possible_outcomes = combinations(n,k)\n",
    "    \n",
    "    p_one_ticket = round((num_of_outcomes / possible_outcomes) * 100,10)\n",
    "    \n",
    "    return print('Your chance of winning the next Big Prize using the numbers {} is {}%'.format(user_selection,p_one_ticket))\n",
    "\n",
    "# Testing the function we see the percent chance of winning is quite low.\n",
    "\n",
    "user_selection = [3, 41, 43, 12, 11, 1]\n",
    "one_ticket_chance_of_winning(user_selection)\n",
    "    "
   ]
  },
  {
   "cell_type": "markdown",
   "metadata": {},
   "source": [
    "Obviously, whatever we choose here the percent chance of winning is the same and is quite low. This satisfies the first requirement for the app."
   ]
  },
  {
   "cell_type": "code",
   "execution_count": 3,
   "metadata": {
    "collapsed": true
   },
   "outputs": [],
   "source": [
    "# For the next step we'll be looking at historical numbers for the lotto. Let's explore the\n",
    "# data.\n",
    "\n",
    "import pandas as pd\n",
    "\n",
    "lotto_data = pd.read_csv('649.csv')"
   ]
  },
  {
   "cell_type": "code",
   "execution_count": 4,
   "metadata": {
    "collapsed": false
   },
   "outputs": [
    {
     "name": "stdout",
     "output_type": "stream",
     "text": [
      "(3665, 11)\n",
      "   PRODUCT  DRAW NUMBER  SEQUENCE NUMBER  DRAW DATE  NUMBER DRAWN 1  \\\n",
      "0      649            1                0  6/12/1982               3   \n",
      "1      649            2                0  6/19/1982               8   \n",
      "2      649            3                0  6/26/1982               1   \n",
      "\n",
      "   NUMBER DRAWN 2  NUMBER DRAWN 3  NUMBER DRAWN 4  NUMBER DRAWN 5  \\\n",
      "0              11              12              14              41   \n",
      "1              33              36              37              39   \n",
      "2               6              23              24              27   \n",
      "\n",
      "   NUMBER DRAWN 6  BONUS NUMBER  \n",
      "0              43            13  \n",
      "1              41             9  \n",
      "2              39            34         PRODUCT  DRAW NUMBER  SEQUENCE NUMBER  DRAW DATE  NUMBER DRAWN 1  \\\n",
      "3662      649         3589                0  6/13/2018               6   \n",
      "3663      649         3590                0  6/16/2018               2   \n",
      "3664      649         3591                0  6/20/2018              14   \n",
      "\n",
      "      NUMBER DRAWN 2  NUMBER DRAWN 3  NUMBER DRAWN 4  NUMBER DRAWN 5  \\\n",
      "3662              22              24              31              32   \n",
      "3663              15              21              31              38   \n",
      "3664              24              31              35              37   \n",
      "\n",
      "      NUMBER DRAWN 6  BONUS NUMBER  \n",
      "3662              34            16  \n",
      "3663              49             8  \n",
      "3664              48            17  \n"
     ]
    }
   ],
   "source": [
    "print(lotto_data.shape)\n",
    "print(lotto_data.head(3),lotto_data.tail(3))"
   ]
  },
  {
   "cell_type": "markdown",
   "metadata": {},
   "source": [
    "We now want to look to see if the person choosing the lotto ticket would have ever won the lotto with the numbers they chose based on historical data."
   ]
  },
  {
   "cell_type": "code",
   "execution_count": 5,
   "metadata": {
    "collapsed": false
   },
   "outputs": [
    {
     "name": "stdout",
     "output_type": "stream",
     "text": [
      "0    {3, 41, 43, 12, 11, 14}\n",
      "1    {33, 36, 37, 39, 8, 41}\n",
      "2     {1, 6, 39, 23, 24, 27}\n",
      "3     {3, 9, 10, 43, 13, 20}\n",
      "4    {34, 5, 14, 47, 21, 31}\n",
      "dtype: object\n"
     ]
    }
   ],
   "source": [
    "# First lets extract all the winning lotto numbers from the past weekly pulls.\n",
    "\n",
    "def extract_numbers (a,b,c,d,e,f):\n",
    "    return {a,b,c,d,e,f}\n",
    "\n",
    "winning_numbers = lotto_data.apply(lambda row: \n",
    "                                             extract_numbers(row['NUMBER DRAWN 1'],\n",
    "                                                             row['NUMBER DRAWN 2'],\n",
    "                                                             row['NUMBER DRAWN 3'],\n",
    "                                                             row['NUMBER DRAWN 4'],\n",
    "                                                             row['NUMBER DRAWN 5'],\n",
    "                                                             row['NUMBER DRAWN 6']), \n",
    "                                             axis=1)\n",
    "\n",
    "print(winning_numbers.head())"
   ]
  },
  {
   "cell_type": "code",
   "execution_count": 6,
   "metadata": {
    "collapsed": false
   },
   "outputs": [
    {
     "data": {
      "text/plain": [
       "'Using the numbers you selected [3, 41, 43, 12, 11, 1] you would have won the lotto in the past 0 times.'"
      ]
     },
     "execution_count": 6,
     "metadata": {},
     "output_type": "execute_result"
    }
   ],
   "source": [
    "def check_historical_occurence(user_selection,winning_numbers):\n",
    "    user_set = set(user_selection)  # We first convert the original selection into a set.\n",
    "    num_of_wins = 0\n",
    "    \n",
    "    for row in winning_numbers: \n",
    "        if (user_set == row) == True:\n",
    "            num_of_wins += 1\n",
    "\n",
    "    if num_of_wins > 0:        \n",
    "        return \"You would have won the Big Prize {} times in the past!\".format(num_of_wins)\n",
    "    else:\n",
    "        return \"Using the numbers you selected {} you would have won the lotto in the past {} times.\".format(user_selection,num_of_wins)\n",
    "\n",
    "\n",
    "check_historical_occurence(user_selection,winning_numbers)"
   ]
  },
  {
   "cell_type": "markdown",
   "metadata": {},
   "source": [
    "This step is helpful to the person buying the ticket because they can see after learning how low of a chance they have of winning, the fact that they probably wouldn't have won in the past either.\n",
    "\n",
    "Next we will create a function to show the customer what their chance of winning would be if they just bought more tickets."
   ]
  },
  {
   "cell_type": "code",
   "execution_count": 7,
   "metadata": {
    "collapsed": true
   },
   "outputs": [],
   "source": [
    "def multi_ticket_probability (t_played):\n",
    "    total_ticket_options = combinations(49,6)\n",
    "    p_multi_ticket = round((t_played / total_ticket_options) * 100,5) # represented as a percentage\n",
    "    return \"If you played {} you would have a {}% of winning the Big Prize\".format(t_played,p_multi_ticket)"
   ]
  },
  {
   "cell_type": "code",
   "execution_count": 8,
   "metadata": {
    "collapsed": false
   },
   "outputs": [
    {
     "name": "stdout",
     "output_type": "stream",
     "text": [
      "If you played 1 you would have a 1e-05% of winning the Big Prize\n",
      "If you played 10 you would have a 7e-05% of winning the Big Prize\n",
      "If you played 100 you would have a 0.00072% of winning the Big Prize\n",
      "If you played 10000 you would have a 0.07151% of winning the Big Prize\n",
      "If you played 100000 you would have a 0.71511% of winning the Big Prize\n",
      "If you played 6991908 you would have a 50.0% of winning the Big Prize\n",
      "If you played 13983816 you would have a 100.0% of winning the Big Prize\n"
     ]
    }
   ],
   "source": [
    "# Testing multi_ticket_probability\n",
    "\n",
    "print(multi_ticket_probability(1))\n",
    "print(multi_ticket_probability(10))\n",
    "print(multi_ticket_probability(100))\n",
    "print(multi_ticket_probability(10000))\n",
    "print(multi_ticket_probability(100000))\n",
    "print(multi_ticket_probability(6991908))\n",
    "print(multi_ticket_probability(13983816))"
   ]
  },
  {
   "cell_type": "markdown",
   "metadata": {},
   "source": [
    "By showing these numbers the user will see that they would have to spend an immense amount of money to improve their chances of winning and even if they spent that much they still would not be guarenteed to win.\n",
    "\n",
    "Now to finish this off, let's write a function that allows the user to input which prize they are hoping to win and tell them what their chances of winning are. We will use numbers 2 - 5 (the number of correct numbers from the users selection which correspond to a respective prize) as our input for the function."
   ]
  },
  {
   "cell_type": "code",
   "execution_count": 25,
   "metadata": {
    "collapsed": false
   },
   "outputs": [],
   "source": [
    "def probability_less_6(correct_num_count):\n",
    "    # We need to adjust for arriving at exactly the correct_num_count\n",
    "    adjustment = 6 - correct_num_count \n",
    "    # Next we calculate the number of combos possible given the function input\n",
    "    num_of_user_combos = int(combinations(6,correct_num_count))\n",
    "    # We then figure out how many correct answers there would be for each combo above\n",
    "    possible_correct_combos_per_answer = ((49 - correct_num_count) * factorial(adjustment)) - adjustment \n",
    "    # Then multiply the number of combos times the number of correct combos\n",
    "    possible_correct_answers = num_of_user_combos * possible_correct_combos_per_answer\n",
    "    # Again, total possible lotto combos\n",
    "    total_num_outcomes = combinations(49,6)  \n",
    "    percent_chance_of_winning = round((possible_correct_answers / total_num_outcomes) * 100,5)\n",
    "    \n",
    "    return \"You would have a {}% chance of winning with {} correct numbers\".format(percent_chance_of_winning,correct_num_count)"
   ]
  },
  {
   "cell_type": "code",
   "execution_count": 26,
   "metadata": {
    "collapsed": false
   },
   "outputs": [
    {
     "name": "stdout",
     "output_type": "stream",
     "text": [
      "You would have a 0.12057% chance of winning with 2 correct numbers\n",
      "You would have a 0.03905% chance of winning with 3 correct numbers\n",
      "You would have a 0.00944% chance of winning with 4 correct numbers\n",
      "You would have a 0.00184% chance of winning with 5 correct numbers\n"
     ]
    }
   ],
   "source": [
    "# Testing the function above.\n",
    "\n",
    "print(probability_less_6(2))\n",
    "print(probability_less_6(3))\n",
    "print(probability_less_6(4))\n",
    "print(probability_less_6(5))\n",
    "\n"
   ]
  },
  {
   "cell_type": "markdown",
   "metadata": {
    "collapsed": true
   },
   "source": [
    "This again reiterates how difficult it is to win anything at all. If the user is just hoping to win with 2 numbers they don't even have a 1% chance of winning. Hopefully, given this data, the app can help those addicted to the lottery understand that they are likely never going to win or make back any money they have spent to date on the lottery."
   ]
  },
  {
   "cell_type": "code",
   "execution_count": null,
   "metadata": {
    "collapsed": true
   },
   "outputs": [],
   "source": []
  }
 ],
 "metadata": {
  "kernelspec": {
   "display_name": "Python 3",
   "language": "python",
   "name": "python3"
  },
  "language_info": {
   "codemirror_mode": {
    "name": "ipython",
    "version": 3
   },
   "file_extension": ".py",
   "mimetype": "text/x-python",
   "name": "python",
   "nbconvert_exporter": "python",
   "pygments_lexer": "ipython3",
   "version": "3.4.3"
  }
 },
 "nbformat": 4,
 "nbformat_minor": 2
}
