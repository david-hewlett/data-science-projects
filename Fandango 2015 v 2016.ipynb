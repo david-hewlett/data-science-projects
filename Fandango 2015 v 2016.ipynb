{
 "cells": [
  {
   "cell_type": "markdown",
   "metadata": {
    "collapsed": true
   },
   "source": [
    "<h1>Fandango Rating Analysis:<h1>\n",
    "<h2>A followup to Hickey's research findings<h2>\n",
    "<h3>In this project we will attempt to determine if the Fandango rating system has been updated since it was pointed out that they were rounding up and thereby overrating certain films.\n",
    "\n",
    "At the end of the project we would like to determine if Fandango has \"fixed\" the issue.<h3>"
   ]
  },
  {
   "cell_type": "code",
   "execution_count": 74,
   "metadata": {
    "collapsed": false
   },
   "outputs": [],
   "source": [
    "import pandas as pd\n",
    "import matplotlib.pyplot as plt\n",
    "import seaborn as sns\n",
    "%matplotlib inline\n",
    "\n",
    "# Importing the two data sets needed for the analysis. The first file is Hickey's dataset.\n",
    "# The second file is an updated set of rating we will use to compare the Fandango ratings.\n",
    "\n",
    "fsc = pd.read_csv('fandango_score_comparison.csv')\n",
    "mr = pd.read_csv('movie_ratings_16_17.csv')"
   ]
  },
  {
   "cell_type": "code",
   "execution_count": 30,
   "metadata": {
    "collapsed": false
   },
   "outputs": [
    {
     "name": "stdout",
     "output_type": "stream",
     "text": [
      "                             FILM  RottenTomatoes  RottenTomatoes_User  \\\n",
      "0  Avengers: Age of Ultron (2015)              74                   86   \n",
      "1               Cinderella (2015)              85                   80   \n",
      "2                  Ant-Man (2015)              80                   90   \n",
      "3          Do You Believe? (2015)              18                   84   \n",
      "4   Hot Tub Time Machine 2 (2015)              14                   28   \n",
      "\n",
      "   Metacritic  Metacritic_User  IMDB  Fandango_Stars  Fandango_Ratingvalue  \\\n",
      "0          66              7.1   7.8             5.0                   4.5   \n",
      "1          67              7.5   7.1             5.0                   4.5   \n",
      "2          64              8.1   7.8             5.0                   4.5   \n",
      "3          22              4.7   5.4             5.0                   4.5   \n",
      "4          29              3.4   5.1             3.5                   3.0   \n",
      "\n",
      "   RT_norm  RT_user_norm         ...           IMDB_norm  RT_norm_round  \\\n",
      "0     3.70           4.3         ...                3.90            3.5   \n",
      "1     4.25           4.0         ...                3.55            4.5   \n",
      "2     4.00           4.5         ...                3.90            4.0   \n",
      "3     0.90           4.2         ...                2.70            1.0   \n",
      "4     0.70           1.4         ...                2.55            0.5   \n",
      "\n",
      "   RT_user_norm_round  Metacritic_norm_round  Metacritic_user_norm_round  \\\n",
      "0                 4.5                    3.5                         3.5   \n",
      "1                 4.0                    3.5                         4.0   \n",
      "2                 4.5                    3.0                         4.0   \n",
      "3                 4.0                    1.0                         2.5   \n",
      "4                 1.5                    1.5                         1.5   \n",
      "\n",
      "   IMDB_norm_round  Metacritic_user_vote_count  IMDB_user_vote_count  \\\n",
      "0              4.0                        1330                271107   \n",
      "1              3.5                         249                 65709   \n",
      "2              4.0                         627                103660   \n",
      "3              2.5                          31                  3136   \n",
      "4              2.5                          88                 19560   \n",
      "\n",
      "   Fandango_votes  Fandango_Difference  \n",
      "0           14846                  0.5  \n",
      "1           12640                  0.5  \n",
      "2           12055                  0.5  \n",
      "3            1793                  0.5  \n",
      "4            1021                  0.5  \n",
      "\n",
      "[5 rows x 22 columns]\n"
     ]
    }
   ],
   "source": [
    "print(fsc.head())"
   ]
  },
  {
   "cell_type": "code",
   "execution_count": 31,
   "metadata": {
    "collapsed": false
   },
   "outputs": [
    {
     "name": "stdout",
     "output_type": "stream",
     "text": [
      "                     movie  year  metascore  imdb  tmeter  audience  fandango  \\\n",
      "0      10 Cloverfield Lane  2016         76   7.2      90        79       3.5   \n",
      "1                 13 Hours  2016         48   7.3      50        83       4.5   \n",
      "2      A Cure for Wellness  2016         47   6.6      40        47       3.0   \n",
      "3          A Dog's Purpose  2017         43   5.2      33        76       4.5   \n",
      "4  A Hologram for the King  2016         58   6.1      70        57       3.0   \n",
      "\n",
      "   n_metascore  n_imdb  n_tmeter  n_audience  nr_metascore  nr_imdb  \\\n",
      "0         3.80    3.60      4.50        3.95           4.0      3.5   \n",
      "1         2.40    3.65      2.50        4.15           2.5      3.5   \n",
      "2         2.35    3.30      2.00        2.35           2.5      3.5   \n",
      "3         2.15    2.60      1.65        3.80           2.0      2.5   \n",
      "4         2.90    3.05      3.50        2.85           3.0      3.0   \n",
      "\n",
      "   nr_tmeter  nr_audience  \n",
      "0        4.5          4.0  \n",
      "1        2.5          4.0  \n",
      "2        2.0          2.5  \n",
      "3        1.5          4.0  \n",
      "4        3.5          3.0  \n"
     ]
    }
   ],
   "source": [
    "print(mr.head())"
   ]
  },
  {
   "cell_type": "code",
   "execution_count": 32,
   "metadata": {
    "collapsed": false
   },
   "outputs": [],
   "source": [
    "# Isolating the Fandango data from the datasets\n",
    "\n",
    "fsc_fdg = fsc[['FILM', \n",
    "              'Fandango_Stars', \n",
    "              'Fandango_Ratingvalue', \n",
    "              'Fandango_votes', \n",
    "              'Fandango_Difference']]\n",
    "\n",
    "mr_fdg = mr[['movie',\n",
    "            'year',\n",
    "            'fandango']]"
   ]
  },
  {
   "cell_type": "code",
   "execution_count": 33,
   "metadata": {
    "collapsed": false
   },
   "outputs": [
    {
     "name": "stdout",
     "output_type": "stream",
     "text": [
      "Dataset 1 \n",
      "        Fandango_Stars  Fandango_Ratingvalue  Fandango_votes  \\\n",
      "count      146.000000            146.000000      146.000000   \n",
      "mean         4.089041              3.845205     3848.787671   \n",
      "std          0.540386              0.502831     6357.778617   \n",
      "min          3.000000              2.700000       35.000000   \n",
      "25%          3.500000              3.500000      222.250000   \n",
      "50%          4.000000              3.900000     1446.000000   \n",
      "75%          4.500000              4.200000     4439.500000   \n",
      "max          5.000000              4.800000    34846.000000   \n",
      "\n",
      "       Fandango_Difference  \n",
      "count           146.000000  \n",
      "mean              0.243836  \n",
      "std               0.152665  \n",
      "min               0.000000  \n",
      "25%               0.100000  \n",
      "50%               0.200000  \n",
      "75%               0.400000  \n",
      "max               0.500000   \n",
      "\n",
      "Dataset 2 \n",
      "               year    fandango\n",
      "count   214.000000  214.000000\n",
      "mean   2016.107477    3.894860\n",
      "std       0.310444    0.516781\n",
      "min    2016.000000    2.500000\n",
      "25%    2016.000000    3.500000\n",
      "50%    2016.000000    4.000000\n",
      "75%    2016.000000    4.500000\n",
      "max    2017.000000    5.000000\n"
     ]
    }
   ],
   "source": [
    "print('Dataset 1','\\n',fsc_fdg.describe(),'\\n')\n",
    "print('Dataset 2','\\n',mr_fdg.describe())"
   ]
  },
  {
   "cell_type": "markdown",
   "metadata": {},
   "source": [
    "At first glance it is unclear if Fandango has made any changes although the new dataset, Dataset 2 does show a lower min value. That could however be a factor of having more movies in the dataset.\n",
    "\n",
    "If we go on to look at the datasets themselves, they are not truely random. Both datasets were pulled based on meeting a number of reviews requirement which is not actually random. We will have to change our goal a little bit to focus on ratings of popular movies. We can use Hickey's original benchmark of 30 ratings to define \"popular.\" \n",
    "\n",
    "The second dataset does not have the number of ratings so we will need to spot check it. To do so we will take a random sample of 10 movies and check their rating count on Fandango. If we are over 80% with 30 reviews or higher it will suffice for the analysis we are doing."
   ]
  },
  {
   "cell_type": "code",
   "execution_count": 34,
   "metadata": {
    "collapsed": false
   },
   "outputs": [
    {
     "name": "stdout",
     "output_type": "stream",
     "text": [
      "108                     Mechanic: Resurrection\n",
      "206                                   Warcraft\n",
      "106                                  Max Steel\n",
      "107                              Me Before You\n",
      "51     Fantastic Beasts and Where to Find Them\n",
      "33                                        Cell\n",
      "59                                      Genius\n",
      "152                                      Sully\n",
      "4                      A Hologram for the King\n",
      "31                  Captain America: Civil War\n",
      "Name: movie, dtype: object\n"
     ]
    }
   ],
   "source": [
    "rating_check = mr_fdg['movie'].sample(10,random_state=1)\n",
    "print(rating_check)"
   ]
  },
  {
   "cell_type": "markdown",
   "metadata": {},
   "source": [
    "From my research it seems as though Fandango now uses Rotten Tomatoes to power their ratings so this analysis may be hard. For the sake of the exercise I will use the number of ratings displayed below the search result on Google. I am not sure if these are Google Reviews, Fandango Reviews or Rotten Tomatoes Reviews.\n",
    "\n",
    "Movie Title | Number of Reviews\n",
    "------|------\n",
    "Mechanic: Resurrection | 25,621\n",
    "Warcraft | 31,560\n",
    "Max Steel | 6,827\n",
    "Me Before You | 30,650\n",
    "Fantastic Beasts and Where to Find Them | 87,867\n",
    "Cell | 3,820\n",
    "Genius | 5\n",
    "Sully | 48,501\n",
    "A Hologram for the King | 10,204\n",
    "Captain America: Civil War | 179,992\n",
    "\n",
    "It seems like the review counts are quite high but without a better metric to use I will move forward seeing that 90% of the films have over 30 reviews and can be considered popular.\n",
    "\n",
    "To refine our dataset even more we will only compare movies released in 2015 from the original dataset with the movies released in 2016 in the new dataset."
   ]
  },
  {
   "cell_type": "code",
   "execution_count": 35,
   "metadata": {
    "collapsed": false
   },
   "outputs": [
    {
     "name": "stderr",
     "output_type": "stream",
     "text": [
      "/dataquest/system/env/python3/lib/python3.4/site-packages/ipykernel/__main__.py:3: UserWarning:\n",
      "\n",
      "This pattern has match groups. To actually get the groups, use str.extract.\n",
      "\n"
     ]
    }
   ],
   "source": [
    "# We will use these two datasets for our analysis.\n",
    "\n",
    "fsc_fdg_2015 = fsc_fdg[fsc_fdg['FILM'].str.contains('(2015)')]\n",
    "mr_fdg_2016 = mr_fdg[mr_fdg['year'] == 2016]"
   ]
  },
  {
   "cell_type": "code",
   "execution_count": 36,
   "metadata": {
    "collapsed": false
   },
   "outputs": [
    {
     "name": "stdout",
     "output_type": "stream",
     "text": [
      "(129, 5)\n",
      "(191, 3)\n"
     ]
    }
   ],
   "source": [
    "print(fsc_fdg_2015.shape)\n",
    "print(mr_fdg_2016.shape)"
   ]
  },
  {
   "cell_type": "code",
   "execution_count": 64,
   "metadata": {
    "collapsed": false
   },
   "outputs": [
    {
     "data": {
      "text/plain": [
       "(0, 5)"
      ]
     },
     "execution_count": 64,
     "metadata": {},
     "output_type": "execute_result"
    },
    {
     "data": {
      "image/png": "[encoded data removed]",
      "text/plain": [
       "<matplotlib.figure.Figure at 0x7f49e15d32e8>"
      ]
     },
     "metadata": {},
     "output_type": "display_data"
    }
   ],
   "source": [
    "plt.style.use('fivethirtyeight')\n",
    "fsc_fdg_2015['Fandango_Stars'].plot.kde(x='Star Rating',label='2015 Study',legend=True,fontsize=10)\n",
    "mr_fdg_2016['fandango'].plot.kde(x='Star Rating',label='2016 Study',legend=True)\n",
    "plt.xlabel('Star Rating',x=.75)\n",
    "plt.title('Change in Popular Movie Ratings by Fandango 2015 - 2016',y=1.1)\n",
    "plt.xticks([0, 0.5, 1.0, 1.5, 2.0, 2.5, 3.0, 3.5, 4.0, 4.5, 5.0])\n",
    "plt.xlim(0,5)\n"
   ]
  },
  {
   "cell_type": "markdown",
   "metadata": {},
   "source": [
    "From the graph above we can see a clear difference in the ratings of popular movies by Fandango. The 2016 ratings are shifted left indicating lower ratings than 2015. We can not say with confidence that the change is directly related to the article by Hickey but one might infer that the article influenced Fandango to make a change."
   ]
  },
  {
   "cell_type": "code",
   "execution_count": 78,
   "metadata": {
    "collapsed": false
   },
   "outputs": [
    {
     "name": "stdout",
     "output_type": "stream",
     "text": [
      "2015 Ratings Data \n",
      " 3.0     8.5\n",
      "3.5    17.8\n",
      "4.0    28.7\n",
      "4.5    38.0\n",
      "5.0     7.0\n",
      "Name: Fandango_Stars, dtype: float64\n",
      "\n",
      " 2016 Ratings Data \n",
      " 2.5     3.1\n",
      "3.0     7.3\n",
      "3.5    24.1\n",
      "4.0    40.3\n",
      "4.5    24.6\n",
      "5.0     0.5\n",
      "Name: fandango, dtype: float64\n"
     ]
    }
   ],
   "source": [
    "# Lets continue digging a little deeper and look at the normalized frequency tables of the \n",
    "# datasets.\n",
    "\n",
    "freq_2015 = round(fsc_fdg_2015['Fandango_Stars'].value_counts(normalize=True).sort_index() * 100, 1)\n",
    "freq_2016 = round(mr_fdg_2016['fandango'].value_counts(normalize=True).sort_index() * 100, 1)\n",
    "print('2015 Ratings Data','\\n',freq_2015)\n",
    "print('\\n','2016 Ratings Data','\\n',freq_2016)\n",
    "\n"
   ]
  },
  {
   "cell_type": "markdown",
   "metadata": {},
   "source": [
    "When we look at the normalized frequency tables we see the same thing as in the KDE plot, a downward trend the overall ratings ratings with more ratings culminating around the 3.5 - 4.0 buckets:\n",
    "\n",
    "Rating | 2016 Result (%) | 2015 Result (%) | Change from 2015 to 2016\n",
    "-----|-----|-----|-----\n",
    "2.5 | 3.1 | n/a | 3.1\n",
    "3.0 | 7.3 | 8.5 | -1.2\n",
    "3.5 | 24.1 | 17.8 | 6.3\n",
    "4.0 | 40.3 | 28.7 | 11.6\n",
    "4.5 | 24.6 | 38.0 | -13.4\n",
    "5.0 | 0.5 | 7.0 | -6.5"
   ]
  },
  {
   "cell_type": "code",
   "execution_count": 112,
   "metadata": {
    "collapsed": false
   },
   "outputs": [
    {
     "data": {
      "text/plain": [
       "<matplotlib.legend.Legend at 0x7f49df3a9f98>"
      ]
     },
     "execution_count": 112,
     "metadata": {},
     "output_type": "execute_result"
    },
    {
     "data": {
      "image/png": "[encoded data removed]",
      "text/plain": [
       "<matplotlib.figure.Figure at 0x7f49df3a96a0>"
      ]
     },
     "metadata": {},
     "output_type": "display_data"
    }
   ],
   "source": [
    "plt.style.use('fivethirtyeight')                            \n",
    "Result_2015 = [float(fsc_fdg_2015['Fandango_Stars'].mean()),float(fsc_fdg_2015['Fandango_Stars'].median()),float(fsc_fdg_2015['Fandango_Stars'].mode())]\n",
    "Result_2016 = [float(mr_fdg_2016['fandango'].mean()),float(mr_fdg_2016['fandango'].median()),float(mr_fdg_2016['fandango'].mode())]\n",
    "index = ['mean','median','mode']\n",
    "summary_statistics = pd.DataFrame({'Result_2015': Result_2015,\n",
    "                   'Result_2016': Result_2016}, index=index)\n",
    "\n",
    "summary_statistics.plot.bar()\n",
    "plt.title('Comparing summary statistics 2015 vs 2016',y=1.02)\n",
    "plt.ylim(0,5)\n",
    "plt.yticks([0, 0.5, 1.0, 1.5, 2.0, 2.5, 3.0, 3.5, 4.0, 4.5, 5.0])\n",
    "plt.legend(loc='upper center')\n",
    "\n",
    "    \n",
    "\n"
   ]
  },
  {
   "cell_type": "markdown",
   "metadata": {},
   "source": [
    "The summary statistics above tell the same story. A shift down in ratings between 2015 to 2016 although the shift is not huge."
   ]
  },
  {
   "cell_type": "code",
   "execution_count": null,
   "metadata": {
    "collapsed": true
   },
   "outputs": [],
   "source": []
  }
 ],
 "metadata": {
  "kernelspec": {
   "display_name": "Python 3",
   "language": "python",
   "name": "python3"
  },
  "language_info": {
   "codemirror_mode": {
    "name": "ipython",
    "version": 3
   },
   "file_extension": ".py",
   "mimetype": "text/x-python",
   "name": "python",
   "nbconvert_exporter": "python",
   "pygments_lexer": "ipython3",
   "version": "3.4.3"
  }
 },
 "nbformat": 4,
 "nbformat_minor": 2
}
